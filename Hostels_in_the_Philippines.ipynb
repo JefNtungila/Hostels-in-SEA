{
  "nbformat": 4,
  "nbformat_minor": 0,
  "metadata": {
    "colab": {
      "name": "Hostels in the Philippines.ipynb",
      "version": "0.3.2",
      "provenance": [],
      "collapsed_sections": [],
      "include_colab_link": true
    },
    "kernelspec": {
      "name": "python3",
      "display_name": "Python 3"
    }
  },
  "cells": [
    {
      "cell_type": "markdown",
      "metadata": {
        "id": "view-in-github",
        "colab_type": "text"
      },
      "source": [
        "<a href=\"https://colab.research.google.com/github/JefNtungila/Hostels-in-SEA/blob/master/Hostels_in_the_Philippines.ipynb\" target=\"_parent\"><img src=\"https://colab.research.google.com/assets/colab-badge.svg\" alt=\"Open In Colab\"/></a>"
      ]
    },
    {
      "cell_type": "markdown",
      "metadata": {
        "id": "zk0PL2LZdGE3",
        "colab_type": "text"
      },
      "source": [
        "#Hostels in the Philippines"
      ]
    },
    {
      "cell_type": "code",
      "metadata": {
        "id": "W_LSIa2Ey_QK",
        "colab_type": "code",
        "colab": {}
      },
      "source": [
        "from bs4 import BeautifulSoup\n",
        "import requests"
      ],
      "execution_count": 0,
      "outputs": []
    },
    {
      "cell_type": "markdown",
      "metadata": {
        "id": "V2h5Ihk3crEn",
        "colab_type": "text"
      },
      "source": [
        "##Loading in the Cities"
      ]
    },
    {
      "cell_type": "code",
      "metadata": {
        "id": "-w0kMMOuDSFE",
        "colab_type": "code",
        "colab": {}
      },
      "source": [
        "country = 'Philippines'"
      ],
      "execution_count": 0,
      "outputs": []
    },
    {
      "cell_type": "code",
      "metadata": {
        "id": "ltsgyGRO9B6K",
        "colab_type": "code",
        "colab": {}
      },
      "source": [
        "\n",
        "\n",
        "result = requests.get(f\"https://www.hostelworld.com/hostels/{country}\")"
      ],
      "execution_count": 0,
      "outputs": []
    },
    {
      "cell_type": "code",
      "metadata": {
        "id": "EqHHbxB404H3",
        "colab_type": "code",
        "colab": {}
      },
      "source": [
        "src = result.content\n",
        "soup = BeautifulSoup(src, 'lxml')\n",
        "soup.prettify();"
      ],
      "execution_count": 0,
      "outputs": []
    },
    {
      "cell_type": "code",
      "metadata": {
        "id": "yuSW4I6-GgIw",
        "colab_type": "code",
        "outputId": "ea27b006-9b57-4d8a-cedd-f3dc6470642d",
        "colab": {
          "base_uri": "https://localhost:8080/",
          "height": 35
        }
      },
      "source": [
        "locations = ['topcities', 'otherlocations']\n",
        "\n",
        "\n",
        "list_of_cities = []\n",
        "\n",
        "for location in locations:\n",
        "  top_cities_finder = soup.find_all('div', class_=(f\"{location}\")) #find html classes\n",
        "  list_of_cities.append(top_cities_finder)\n",
        "\n",
        "#for every item in the sublist and for every sublist in the list of cities - get all the items\n",
        "flat_list_of_cities = [item for sublist in list_of_cities for item in sublist]\n",
        "\n",
        "\n",
        "cities = []\n",
        "\n",
        "for city in flat_list_of_cities:\n",
        "  city = city.find_all('a') #find articles in html classes\n",
        "  cities.append(city)\n",
        "  \n",
        "final_flat_list_of_cities = [item for sublist in cities for item in sublist]\n",
        "\n",
        "city_names = []\n",
        "\n",
        "for city in final_flat_list_of_cities:\n",
        "  city_name = city.text\n",
        "  city_names.append(city_name)\n",
        "\n",
        "print( len(list_of_cities), len(flat_list_of_cities) , len(cities) , len(final_flat_list_of_cities), len(city_names))"
      ],
      "execution_count": 25,
      "outputs": [
        {
          "output_type": "stream",
          "text": [
            "2 3 3 40 40\n"
          ],
          "name": "stdout"
        }
      ]
    },
    {
      "cell_type": "code",
      "metadata": {
        "id": "AQKVMr4t9Tmz",
        "colab_type": "code",
        "outputId": "65915028-fd0b-4106-823d-cd4ea8138134",
        "colab": {
          "base_uri": "https://localhost:8080/",
          "height": 728
        }
      },
      "source": [
        "city_names"
      ],
      "execution_count": 20,
      "outputs": [
        {
          "output_type": "execute_result",
          "data": {
            "text/plain": [
              "['Cebu',\n",
              " 'Manila',\n",
              " 'El Nido',\n",
              " 'Boracay Island',\n",
              " 'Coron',\n",
              " 'Puerto Princesa City',\n",
              " 'Siargao Island',\n",
              " 'Panglao Island',\n",
              " 'Malapascua Island',\n",
              " 'Bohol Island',\n",
              " 'Bohol',\n",
              " 'Palawan',\n",
              " 'Baguio',\n",
              " 'Baler',\n",
              " 'Banaue',\n",
              " 'Batuan',\n",
              " 'Bohol Island',\n",
              " 'Boracay Island',\n",
              " 'Carabao Island',\n",
              " 'Cebu',\n",
              " 'Coron',\n",
              " 'Davao City',\n",
              " 'Dumaguete',\n",
              " 'El Nido',\n",
              " 'Kalibo',\n",
              " 'Legazpi City',\n",
              " 'Malapascua Island',\n",
              " 'Manila',\n",
              " 'Mati City',\n",
              " 'Panglao Island',\n",
              " 'Puerto Galera',\n",
              " 'Puerto Princesa City',\n",
              " 'San Felipe',\n",
              " 'San Jose Negros Oriental',\n",
              " 'San Juan La Union',\n",
              " 'San Vicente',\n",
              " 'Siargao Island',\n",
              " 'Siquijor',\n",
              " 'Tablas Island',\n",
              " 'Tagaytay']"
            ]
          },
          "metadata": {
            "tags": []
          },
          "execution_count": 20
        }
      ]
    },
    {
      "cell_type": "markdown",
      "metadata": {
        "id": "BzLhwrXwgx6x",
        "colab_type": "text"
      },
      "source": [
        "##Getting hostel names"
      ]
    },
    {
      "cell_type": "code",
      "metadata": {
        "id": "kSANR22CdMq7",
        "colab_type": "code",
        "colab": {}
      },
      "source": [
        "city = 'Cebu'\n",
        "\n",
        "result1 = requests.get(f\"https://www.hostelworld.com/findabed.php/ChosenCity.{city}/ChosenCountry.{country}\")\n",
        "src1 = result1.content\n",
        "soup1 = BeautifulSoup(src1, 'lxml')\n",
        "soup1.prettify();\n",
        "\n",
        "\n"
      ],
      "execution_count": 0,
      "outputs": []
    },
    {
      "cell_type": "code",
      "metadata": {
        "id": "X-GD1XNp3t7n",
        "colab_type": "code",
        "colab": {
          "base_uri": "https://localhost:8080/",
          "height": 550
        },
        "outputId": "3c773920-c501-4963-dc3d-ba1a69de18d5"
      },
      "source": [
        "hostel_container = soup1.find_all('div', class_ = 'fabresult rounded clearfix hwta-property')\n",
        "\n",
        "hostel_names = []\n",
        "\n",
        "for item in hostel_container:\n",
        "  item = item.find('a').text\n",
        "  hostel_names.append(item)\n",
        "  \n",
        "  \n",
        "hostel_names  \n",
        "    "
      ],
      "execution_count": 22,
      "outputs": [
        {
          "output_type": "execute_result",
          "data": {
            "text/plain": [
              "['Noordzee Hostel',\n",
              " 'HappyNest Hostel',\n",
              " 'Murals Hostel and Cafe',\n",
              " 'Teofel Hostel',\n",
              " 'Sharky Hostel Oslob',\n",
              " 'Mad Monkey Cebu City',\n",
              " 'Chief Mau Moalboal Cebu',\n",
              " 'Moalboal Backpacker Lodge',\n",
              " 'Casa Bonita Inn Oslob',\n",
              " 'Le Village Guesthouse Hostel & Bar',\n",
              " 'Le Village Hostel Moalboal',\n",
              " \"Jiji's Hostel\",\n",
              " 'MoHo - Moalboal Hostel',\n",
              " 'Ananas Guesthouse Moalboal',\n",
              " 'West Coast Beach House',\n",
              " 'The Stopover Hostel - Mactan Cebu',\n",
              " 'J & C Guesthouse',\n",
              " 'Shejoje Poshtel Hostel',\n",
              " \"Angler's Hub and Resort\",\n",
              " 'Cebu Guest Inn',\n",
              " \"Allson's Inn\",\n",
              " 'Bugoybikers in Cebu City',\n",
              " 'Big Paul Hostel Cebu City',\n",
              " '1521 Hostel Mactan Cebu',\n",
              " 'D522 at Kiener Hills - Hotel Near Cebu Airport',\n",
              " \"JJ's Place Moalboal\",\n",
              " 'Sunday Hostel',\n",
              " \"Emok's Guesthouse\",\n",
              " 'Ayo Homtel',\n",
              " 'Murals Mactan']"
            ]
          },
          "metadata": {
            "tags": []
          },
          "execution_count": 22
        }
      ]
    },
    {
      "cell_type": "code",
      "metadata": {
        "id": "5X_7FyY5PqNb",
        "colab_type": "code",
        "colab": {}
      },
      "source": [
        ""
      ],
      "execution_count": 0,
      "outputs": []
    }
  ]
}