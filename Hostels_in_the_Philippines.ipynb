{
  "nbformat": 4,
  "nbformat_minor": 0,
  "metadata": {
    "colab": {
      "name": "Hostels in the Philippines.ipynb",
      "version": "0.3.2",
      "provenance": [],
      "include_colab_link": true
    },
    "kernelspec": {
      "name": "python3",
      "display_name": "Python 3"
    }
  },
  "cells": [
    {
      "cell_type": "markdown",
      "metadata": {
        "id": "view-in-github",
        "colab_type": "text"
      },
      "source": [
        "<a href=\"https://colab.research.google.com/github/JefNtungila/Geoproject/blob/master/Hostels_in_the_Philippines.ipynb\" target=\"_parent\"><img src=\"https://colab.research.google.com/assets/colab-badge.svg\" alt=\"Open In Colab\"/></a>"
      ]
    },
    {
      "cell_type": "code",
      "metadata": {
        "id": "W_LSIa2Ey_QK",
        "colab_type": "code",
        "colab": {}
      },
      "source": [
        "from bs4 import BeautifulSoup\n",
        "import requests"
      ],
      "execution_count": 0,
      "outputs": []
    },
    {
      "cell_type": "code",
      "metadata": {
        "id": "ltsgyGRO9B6K",
        "colab_type": "code",
        "colab": {}
      },
      "source": [
        "country = 'Philippines'\n",
        "\n",
        "result = requests.get(f\"https://www.hostelworld.com/hostels/{country}\")"
      ],
      "execution_count": 0,
      "outputs": []
    },
    {
      "cell_type": "code",
      "metadata": {
        "id": "EqHHbxB404H3",
        "colab_type": "code",
        "colab": {}
      },
      "source": [
        "src = result.content\n",
        "soup = BeautifulSoup(src, 'lxml')\n",
        "soup.prettify()"
      ],
      "execution_count": 0,
      "outputs": []
    },
    {
      "cell_type": "code",
      "metadata": {
        "id": "yuSW4I6-GgIw",
        "colab_type": "code",
        "colab": {
          "base_uri": "https://localhost:8080/",
          "height": 34
        },
        "outputId": "8dfe53fd-3155-4e1d-e11a-b6faa53bb870"
      },
      "source": [
        "locations = ['topcities', 'otherlocations']\n",
        "\n",
        "\n",
        "list_of_cities = []\n",
        "\n",
        "for location in locations:\n",
        "  top_cities_finder = soup.find_all('div', class_=(f\"{location}\")) #find html classes\n",
        "  list_of_cities.append(top_cities_finder)\n",
        "\n",
        "#for every item in the sublist and for every sublist in the list of cties - get all the items\n",
        "flat_list_of_cities = [item for sublist in list_of_cities for item in sublist]\n",
        "\n",
        "\n",
        "cities = []\n",
        "\n",
        "for city in flat_list_of_cities:\n",
        "  city = city.find_all('a') #find articles in html classes\n",
        "  cities.append(city)\n",
        "  \n",
        "final_flat_list_of_cities = [item for sublist in cities for item in sublist]\n",
        "\n",
        "city_names = []\n",
        "\n",
        "for city in final_flat_list_of_cities:\n",
        "  city_name = city.text\n",
        "  city_names.append(city_name)\n",
        "\n",
        "print( len(list_of_cities), len(flat_list_of_cities) , len(cities) , len(final_flat_list_of_cities), len(city_names))"
      ],
      "execution_count": 152,
      "outputs": [
        {
          "output_type": "stream",
          "text": [
            "2 3 3 40 40\n"
          ],
          "name": "stdout"
        }
      ]
    },
    {
      "cell_type": "code",
      "metadata": {
        "id": "AQKVMr4t9Tmz",
        "colab_type": "code",
        "colab": {
          "base_uri": "https://localhost:8080/",
          "height": 689
        },
        "outputId": "ee8e00d4-4c9a-4e3c-c160-8c3887c42d37"
      },
      "source": [
        "city_names"
      ],
      "execution_count": 155,
      "outputs": [
        {
          "output_type": "execute_result",
          "data": {
            "text/plain": [
              "['Cebu',\n",
              " 'Manila',\n",
              " 'El Nido',\n",
              " 'Boracay Island',\n",
              " 'Coron',\n",
              " 'Puerto Princesa City',\n",
              " 'Siargao Island',\n",
              " 'Panglao Island',\n",
              " 'Malapascua Island',\n",
              " 'Bohol Island',\n",
              " 'Bohol',\n",
              " 'Palawan',\n",
              " 'Baguio',\n",
              " 'Baler',\n",
              " 'Banaue',\n",
              " 'Batuan',\n",
              " 'Bohol Island',\n",
              " 'Boracay Island',\n",
              " 'Carabao Island',\n",
              " 'Cebu',\n",
              " 'Coron',\n",
              " 'Davao City',\n",
              " 'Dumaguete',\n",
              " 'El Nido',\n",
              " 'Kalibo',\n",
              " 'Legazpi City',\n",
              " 'Malapascua Island',\n",
              " 'Manila',\n",
              " 'Mati City',\n",
              " 'Panglao Island',\n",
              " 'Puerto Galera',\n",
              " 'Puerto Princesa City',\n",
              " 'San Felipe',\n",
              " 'San Jose Negros Oriental',\n",
              " 'San Juan La Union',\n",
              " 'San Vicente',\n",
              " 'Siargao Island',\n",
              " 'Siquijor',\n",
              " 'Tablas Island',\n",
              " 'Tagaytay']"
            ]
          },
          "metadata": {
            "tags": []
          },
          "execution_count": 155
        }
      ]
    }
  ]
}