{
  "nbformat": 4,
  "nbformat_minor": 0,
  "metadata": {
    "colab": {
      "name": "Hostels in the Philippines.ipynb",
      "version": "0.3.2",
      "provenance": [],
      "collapsed_sections": [],
      "include_colab_link": true
    },
    "kernelspec": {
      "name": "python3",
      "display_name": "Python 3"
    }
  },
  "cells": [
    {
      "cell_type": "markdown",
      "metadata": {
        "id": "view-in-github",
        "colab_type": "text"
      },
      "source": [
        "<a href=\"https://colab.research.google.com/github/JefNtungila/Hostels-in-SEA/blob/master/Hostels_in_the_Philippines.ipynb\" target=\"_parent\"><img src=\"https://colab.research.google.com/assets/colab-badge.svg\" alt=\"Open In Colab\"/></a>"
      ]
    },
    {
      "cell_type": "markdown",
      "metadata": {
        "id": "zk0PL2LZdGE3",
        "colab_type": "text"
      },
      "source": [
        "#Hostels in the Philippines"
      ]
    },
    {
      "cell_type": "code",
      "metadata": {
        "id": "W_LSIa2Ey_QK",
        "colab_type": "code",
        "colab": {}
      },
      "source": [
        "from bs4 import BeautifulSoup\n",
        "import requests\n",
        "import math\n",
        "import pandas as pd"
      ],
      "execution_count": 0,
      "outputs": []
    },
    {
      "cell_type": "markdown",
      "metadata": {
        "id": "V2h5Ihk3crEn",
        "colab_type": "text"
      },
      "source": [
        "##Loading in the Cities"
      ]
    },
    {
      "cell_type": "code",
      "metadata": {
        "id": "-w0kMMOuDSFE",
        "colab_type": "code",
        "colab": {}
      },
      "source": [
        "country = 'Philippines'"
      ],
      "execution_count": 0,
      "outputs": []
    },
    {
      "cell_type": "code",
      "metadata": {
        "id": "ltsgyGRO9B6K",
        "colab_type": "code",
        "colab": {}
      },
      "source": [
        "\n",
        "\n",
        "result = requests.get(f\"https://www.hostelworld.com/hostels/{country}\")"
      ],
      "execution_count": 0,
      "outputs": []
    },
    {
      "cell_type": "code",
      "metadata": {
        "id": "EqHHbxB404H3",
        "colab_type": "code",
        "colab": {}
      },
      "source": [
        "src = result.content\n",
        "soup = BeautifulSoup(src, 'lxml')\n",
        "soup.prettify();"
      ],
      "execution_count": 0,
      "outputs": []
    },
    {
      "cell_type": "code",
      "metadata": {
        "id": "yuSW4I6-GgIw",
        "colab_type": "code",
        "outputId": "ea27b006-9b57-4d8a-cedd-f3dc6470642d",
        "colab": {
          "base_uri": "https://localhost:8080/",
          "height": 35
        }
      },
      "source": [
        "locations = ['topcities', 'otherlocations']\n",
        "\n",
        "\n",
        "list_of_cities = []\n",
        "\n",
        "for location in locations:\n",
        "  top_cities_finder = soup.find_all('div', class_=(f\"{location}\")) #find html classes\n",
        "  list_of_cities.append(top_cities_finder)\n",
        "\n",
        "#for every item in the sublist and for every sublist in the list of cities - get all the items\n",
        "flat_list_of_cities = [item for sublist in list_of_cities for item in sublist]\n",
        "\n",
        "\n",
        "cities = []\n",
        "\n",
        "for city in flat_list_of_cities:\n",
        "  city = city.find_all('a') #find articles in html classes\n",
        "  cities.append(city)\n",
        "  \n",
        "final_flat_list_of_cities = [item for sublist in cities for item in sublist]\n",
        "\n",
        "city_names = []\n",
        "\n",
        "for city in final_flat_list_of_cities:\n",
        "  city_name = city.text\n",
        "  city_names.append(city_name)\n",
        "\n",
        "print( len(list_of_cities), len(flat_list_of_cities) , len(cities) , len(final_flat_list_of_cities), len(city_names))"
      ],
      "execution_count": 25,
      "outputs": [
        {
          "output_type": "stream",
          "text": [
            "2 3 3 40 40\n"
          ],
          "name": "stdout"
        }
      ]
    },
    {
      "cell_type": "code",
      "metadata": {
        "id": "AQKVMr4t9Tmz",
        "colab_type": "code",
        "outputId": "65915028-fd0b-4106-823d-cd4ea8138134",
        "colab": {
          "base_uri": "https://localhost:8080/",
          "height": 728
        }
      },
      "source": [
        "city_names"
      ],
      "execution_count": 20,
      "outputs": [
        {
          "output_type": "execute_result",
          "data": {
            "text/plain": [
              "['Cebu',\n",
              " 'Manila',\n",
              " 'El Nido',\n",
              " 'Boracay Island',\n",
              " 'Coron',\n",
              " 'Puerto Princesa City',\n",
              " 'Siargao Island',\n",
              " 'Panglao Island',\n",
              " 'Malapascua Island',\n",
              " 'Bohol Island',\n",
              " 'Bohol',\n",
              " 'Palawan',\n",
              " 'Baguio',\n",
              " 'Baler',\n",
              " 'Banaue',\n",
              " 'Batuan',\n",
              " 'Bohol Island',\n",
              " 'Boracay Island',\n",
              " 'Carabao Island',\n",
              " 'Cebu',\n",
              " 'Coron',\n",
              " 'Davao City',\n",
              " 'Dumaguete',\n",
              " 'El Nido',\n",
              " 'Kalibo',\n",
              " 'Legazpi City',\n",
              " 'Malapascua Island',\n",
              " 'Manila',\n",
              " 'Mati City',\n",
              " 'Panglao Island',\n",
              " 'Puerto Galera',\n",
              " 'Puerto Princesa City',\n",
              " 'San Felipe',\n",
              " 'San Jose Negros Oriental',\n",
              " 'San Juan La Union',\n",
              " 'San Vicente',\n",
              " 'Siargao Island',\n",
              " 'Siquijor',\n",
              " 'Tablas Island',\n",
              " 'Tagaytay']"
            ]
          },
          "metadata": {
            "tags": []
          },
          "execution_count": 20
        }
      ]
    },
    {
      "cell_type": "markdown",
      "metadata": {
        "id": "BzLhwrXwgx6x",
        "colab_type": "text"
      },
      "source": [
        "##Getting hostel names"
      ]
    },
    {
      "cell_type": "code",
      "metadata": {
        "id": "hOZRFzC5QkE_",
        "colab_type": "code",
        "colab": {}
      },
      "source": [
        "date_from = '2019-07-09'\n",
        "date_to = {'2019-07-12'}"
      ],
      "execution_count": 0,
      "outputs": []
    },
    {
      "cell_type": "code",
      "metadata": {
        "id": "_QPqSKwZQVRr",
        "colab_type": "code",
        "colab": {}
      },
      "source": [
        "hostel_names = []\n",
        "\n",
        "for city in city_names:\n",
        "  try: \n",
        "    result1 = requests.get(f\"https://www.hostelworld.com/findabed.php/ChosenCity.{city}/ChosenCountry.{country}&date_from={date_from}&date_to={date_to}\")\n",
        "    src1 = result1.content\n",
        "    soup1 = BeautifulSoup(src1, 'lxml')\n",
        "    soup1.prettify();\n",
        "\n",
        "    number_of_hostels = soup1.find_all('div', class_ = 'row fabfooter')\n",
        "    number_of_hostels = str(number_of_hostels[0]).split(f'''<span> hostels in {city}''')\n",
        "    number_of_hostels = str(number_of_hostels).split('We have ')\n",
        "    number_of_hostels = number_of_hostels[1].split(''' \\', \\'</span>\\\\n\\\\n''')\n",
        "    number_of_hostels = int(number_of_hostels[0])#finding how many hostels are in the city\n",
        "    webpages = math.ceil(number_of_hostels/30) #finding how many pages we need to cover\n",
        "    webpages\n",
        "\n",
        "    page_number = webpages+1\n",
        "\n",
        "    for page in range (1, page_number):\n",
        "      print (page)\n",
        "      result2 = requests.get(f\"https://www.hostelworld.com/findabed.php/ChosenCity.{city}/ChosenCountry.{country}&date_from={date_from}&date_to={date_to}?page={page}\")\n",
        "      src2 = result2.content\n",
        "      soup2 = BeautifulSoup(src2, 'lxml')\n",
        "      soup2.prettify();\n",
        "\n",
        "      hostel_container = soup2.find_all('div', class_ = 'fabresult rounded clearfix hwta-property')\n",
        "      for item in hostel_container:\n",
        "        item = item.find('a').text\n",
        "        hostel_names.append(item)\n",
        "    #     print(item)\n",
        "  except:\n",
        "      print('excuse me no hostels found')\n",
        "\n",
        "print(len(hostel_names))\n"
      ],
      "execution_count": 0,
      "outputs": []
    },
    {
      "cell_type": "code",
      "metadata": {
        "id": "5X_7FyY5PqNb",
        "colab_type": "code",
        "colab": {
          "base_uri": "https://localhost:8080/",
          "height": 634
        },
        "outputId": "f336e035-286e-42c2-8b40-654fd0b75b86"
      },
      "source": [
        "df = pd.DataFrame(hostel_names, columns = ['Hostel Names'])\n",
        "df.head(20)"
      ],
      "execution_count": 124,
      "outputs": [
        {
          "output_type": "execute_result",
          "data": {
            "text/html": [
              "<div>\n",
              "<style scoped>\n",
              "    .dataframe tbody tr th:only-of-type {\n",
              "        vertical-align: middle;\n",
              "    }\n",
              "\n",
              "    .dataframe tbody tr th {\n",
              "        vertical-align: top;\n",
              "    }\n",
              "\n",
              "    .dataframe thead th {\n",
              "        text-align: right;\n",
              "    }\n",
              "</style>\n",
              "<table border=\"1\" class=\"dataframe\">\n",
              "  <thead>\n",
              "    <tr style=\"text-align: right;\">\n",
              "      <th></th>\n",
              "      <th>Hostel Names</th>\n",
              "    </tr>\n",
              "  </thead>\n",
              "  <tbody>\n",
              "    <tr>\n",
              "      <th>0</th>\n",
              "      <td>Noordzee Hostel</td>\n",
              "    </tr>\n",
              "    <tr>\n",
              "      <th>1</th>\n",
              "      <td>HappyNest Hostel</td>\n",
              "    </tr>\n",
              "    <tr>\n",
              "      <th>2</th>\n",
              "      <td>Murals Hostel and Cafe</td>\n",
              "    </tr>\n",
              "    <tr>\n",
              "      <th>3</th>\n",
              "      <td>Teofel Hostel</td>\n",
              "    </tr>\n",
              "    <tr>\n",
              "      <th>4</th>\n",
              "      <td>Sharky Hostel Oslob</td>\n",
              "    </tr>\n",
              "    <tr>\n",
              "      <th>5</th>\n",
              "      <td>Mad Monkey Cebu City</td>\n",
              "    </tr>\n",
              "    <tr>\n",
              "      <th>6</th>\n",
              "      <td>Chief Mau Moalboal Cebu</td>\n",
              "    </tr>\n",
              "    <tr>\n",
              "      <th>7</th>\n",
              "      <td>Moalboal Backpacker Lodge</td>\n",
              "    </tr>\n",
              "    <tr>\n",
              "      <th>8</th>\n",
              "      <td>Casa Bonita Inn Oslob</td>\n",
              "    </tr>\n",
              "    <tr>\n",
              "      <th>9</th>\n",
              "      <td>Le Village Guesthouse Hostel &amp; Bar</td>\n",
              "    </tr>\n",
              "    <tr>\n",
              "      <th>10</th>\n",
              "      <td>Le Village Hostel Moalboal</td>\n",
              "    </tr>\n",
              "    <tr>\n",
              "      <th>11</th>\n",
              "      <td>Jiji's Hostel</td>\n",
              "    </tr>\n",
              "    <tr>\n",
              "      <th>12</th>\n",
              "      <td>MoHo - Moalboal Hostel</td>\n",
              "    </tr>\n",
              "    <tr>\n",
              "      <th>13</th>\n",
              "      <td>Ananas Guesthouse Moalboal</td>\n",
              "    </tr>\n",
              "    <tr>\n",
              "      <th>14</th>\n",
              "      <td>West Coast Beach House</td>\n",
              "    </tr>\n",
              "    <tr>\n",
              "      <th>15</th>\n",
              "      <td>The Stopover Hostel - Mactan Cebu</td>\n",
              "    </tr>\n",
              "    <tr>\n",
              "      <th>16</th>\n",
              "      <td>J &amp; C Guesthouse</td>\n",
              "    </tr>\n",
              "    <tr>\n",
              "      <th>17</th>\n",
              "      <td>Shejoje Poshtel Hostel</td>\n",
              "    </tr>\n",
              "    <tr>\n",
              "      <th>18</th>\n",
              "      <td>Angler's Hub and Resort</td>\n",
              "    </tr>\n",
              "    <tr>\n",
              "      <th>19</th>\n",
              "      <td>Cebu Guest Inn</td>\n",
              "    </tr>\n",
              "  </tbody>\n",
              "</table>\n",
              "</div>"
            ],
            "text/plain": [
              "                          Hostel Names\n",
              "0                      Noordzee Hostel\n",
              "1                     HappyNest Hostel\n",
              "2               Murals Hostel and Cafe\n",
              "3                        Teofel Hostel\n",
              "4                  Sharky Hostel Oslob\n",
              "5                 Mad Monkey Cebu City\n",
              "6              Chief Mau Moalboal Cebu\n",
              "7            Moalboal Backpacker Lodge\n",
              "8                Casa Bonita Inn Oslob\n",
              "9   Le Village Guesthouse Hostel & Bar\n",
              "10          Le Village Hostel Moalboal\n",
              "11                       Jiji's Hostel\n",
              "12              MoHo - Moalboal Hostel\n",
              "13          Ananas Guesthouse Moalboal\n",
              "14              West Coast Beach House\n",
              "15   The Stopover Hostel - Mactan Cebu\n",
              "16                    J & C Guesthouse\n",
              "17              Shejoje Poshtel Hostel\n",
              "18             Angler's Hub and Resort\n",
              "19                      Cebu Guest Inn"
            ]
          },
          "metadata": {
            "tags": []
          },
          "execution_count": 124
        }
      ]
    },
    {
      "cell_type": "code",
      "metadata": {
        "id": "cy3TC7CJW16J",
        "colab_type": "code",
        "colab": {
          "base_uri": "https://localhost:8080/",
          "height": 634
        },
        "outputId": "c2d54dca-2f0b-4625-a778-65810308e556"
      },
      "source": [
        "df.tail(20)"
      ],
      "execution_count": 125,
      "outputs": [
        {
          "output_type": "execute_result",
          "data": {
            "text/html": [
              "<div>\n",
              "<style scoped>\n",
              "    .dataframe tbody tr th:only-of-type {\n",
              "        vertical-align: middle;\n",
              "    }\n",
              "\n",
              "    .dataframe tbody tr th {\n",
              "        vertical-align: top;\n",
              "    }\n",
              "\n",
              "    .dataframe thead th {\n",
              "        text-align: right;\n",
              "    }\n",
              "</style>\n",
              "<table border=\"1\" class=\"dataframe\">\n",
              "  <thead>\n",
              "    <tr style=\"text-align: right;\">\n",
              "      <th></th>\n",
              "      <th>Hostel Names</th>\n",
              "    </tr>\n",
              "  </thead>\n",
              "  <tbody>\n",
              "    <tr>\n",
              "      <th>424</th>\n",
              "      <td>Avocado Tree Hostel</td>\n",
              "    </tr>\n",
              "    <tr>\n",
              "      <th>425</th>\n",
              "      <td>Footprints Homestay</td>\n",
              "    </tr>\n",
              "    <tr>\n",
              "      <th>426</th>\n",
              "      <td>Salty Nomads</td>\n",
              "    </tr>\n",
              "    <tr>\n",
              "      <th>427</th>\n",
              "      <td>Lampara Siargao</td>\n",
              "    </tr>\n",
              "    <tr>\n",
              "      <th>428</th>\n",
              "      <td>Paglaom Hostel</td>\n",
              "    </tr>\n",
              "    <tr>\n",
              "      <th>429</th>\n",
              "      <td>Secret Spot Siargao</td>\n",
              "    </tr>\n",
              "    <tr>\n",
              "      <th>430</th>\n",
              "      <td>Kawili Hostel</td>\n",
              "    </tr>\n",
              "    <tr>\n",
              "      <th>431</th>\n",
              "      <td>Coco Pod Hostel</td>\n",
              "    </tr>\n",
              "    <tr>\n",
              "      <th>432</th>\n",
              "      <td>Sunlit Hostel</td>\n",
              "    </tr>\n",
              "    <tr>\n",
              "      <th>433</th>\n",
              "      <td>Kokai Resort</td>\n",
              "    </tr>\n",
              "    <tr>\n",
              "      <th>434</th>\n",
              "      <td>Malayah Siargao</td>\n",
              "    </tr>\n",
              "    <tr>\n",
              "      <th>435</th>\n",
              "      <td>Hiraya Surf Hostel</td>\n",
              "    </tr>\n",
              "    <tr>\n",
              "      <th>436</th>\n",
              "      <td>Tres Islas Hostel</td>\n",
              "    </tr>\n",
              "    <tr>\n",
              "      <th>437</th>\n",
              "      <td>Let's Gold Hostel (Kanijugan Homestay)</td>\n",
              "    </tr>\n",
              "    <tr>\n",
              "      <th>438</th>\n",
              "      <td>Sinag Hostel</td>\n",
              "    </tr>\n",
              "    <tr>\n",
              "      <th>439</th>\n",
              "      <td>Moonlights Homestay</td>\n",
              "    </tr>\n",
              "    <tr>\n",
              "      <th>440</th>\n",
              "      <td>Aloha Hostel Siargao</td>\n",
              "    </tr>\n",
              "    <tr>\n",
              "      <th>441</th>\n",
              "      <td>Bamboo Siargao</td>\n",
              "    </tr>\n",
              "    <tr>\n",
              "      <th>442</th>\n",
              "      <td>Charisma Resort</td>\n",
              "    </tr>\n",
              "    <tr>\n",
              "      <th>443</th>\n",
              "      <td>Royal Cliff Resort</td>\n",
              "    </tr>\n",
              "  </tbody>\n",
              "</table>\n",
              "</div>"
            ],
            "text/plain": [
              "                               Hostel Names\n",
              "424                     Avocado Tree Hostel\n",
              "425                     Footprints Homestay\n",
              "426                            Salty Nomads\n",
              "427                         Lampara Siargao\n",
              "428                          Paglaom Hostel\n",
              "429                     Secret Spot Siargao\n",
              "430                           Kawili Hostel\n",
              "431                         Coco Pod Hostel\n",
              "432                           Sunlit Hostel\n",
              "433                            Kokai Resort\n",
              "434                         Malayah Siargao\n",
              "435                      Hiraya Surf Hostel\n",
              "436                       Tres Islas Hostel\n",
              "437  Let's Gold Hostel (Kanijugan Homestay)\n",
              "438                            Sinag Hostel\n",
              "439                     Moonlights Homestay\n",
              "440                    Aloha Hostel Siargao\n",
              "441                          Bamboo Siargao\n",
              "442                         Charisma Resort\n",
              "443                      Royal Cliff Resort"
            ]
          },
          "metadata": {
            "tags": []
          },
          "execution_count": 125
        }
      ]
    }
  ]
}