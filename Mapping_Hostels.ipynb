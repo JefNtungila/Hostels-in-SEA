{
  "nbformat": 4,
  "nbformat_minor": 0,
  "metadata": {
    "colab": {
      "name": "Mapping Hostels.ipynb",
      "version": "0.3.2",
      "provenance": [],
      "include_colab_link": true
    },
    "kernelspec": {
      "name": "python3",
      "display_name": "Python 3"
    }
  },
  "cells": [
    {
      "cell_type": "markdown",
      "metadata": {
        "id": "view-in-github",
        "colab_type": "text"
      },
      "source": [
        "<a href=\"https://colab.research.google.com/github/JefNtungila/Geoproject/blob/master/Mapping_Hostels.ipynb\" target=\"_parent\"><img src=\"https://colab.research.google.com/assets/colab-badge.svg\" alt=\"Open In Colab\"/></a>"
      ]
    },
    {
      "cell_type": "code",
      "metadata": {
        "id": "igxprSEceic_",
        "colab_type": "code",
        "colab": {
          "base_uri": "https://localhost:8080/",
          "height": 141
        },
        "outputId": "f5aed208-792e-49a4-c626-74a19a143bc0"
      },
      "source": [
        "pip install yandex-geocoder"
      ],
      "execution_count": 1,
      "outputs": [
        {
          "output_type": "stream",
          "text": [
            "Requirement already satisfied: yandex-geocoder in /usr/local/lib/python3.6/dist-packages (1.0.0)\n",
            "Requirement already satisfied: requests~=2.20 in /usr/local/lib/python3.6/dist-packages (from yandex-geocoder) (2.21.0)\n",
            "Requirement already satisfied: chardet<3.1.0,>=3.0.2 in /usr/local/lib/python3.6/dist-packages (from requests~=2.20->yandex-geocoder) (3.0.4)\n",
            "Requirement already satisfied: certifi>=2017.4.17 in /usr/local/lib/python3.6/dist-packages (from requests~=2.20->yandex-geocoder) (2019.3.9)\n",
            "Requirement already satisfied: urllib3<1.25,>=1.21.1 in /usr/local/lib/python3.6/dist-packages (from requests~=2.20->yandex-geocoder) (1.24.3)\n",
            "Requirement already satisfied: idna<2.9,>=2.5 in /usr/local/lib/python3.6/dist-packages (from requests~=2.20->yandex-geocoder) (2.8)\n"
          ],
          "name": "stdout"
        }
      ]
    },
    {
      "cell_type": "code",
      "metadata": {
        "id": "TWi4MnXEjS2d",
        "colab_type": "code",
        "colab": {
          "base_uri": "https://localhost:8080/",
          "height": 242
        },
        "outputId": "72754ab5-ce83-4acd-ec14-dd98a28bdab5"
      },
      "source": [
        " pip uninstall matplotlib"
      ],
      "execution_count": 2,
      "outputs": [
        {
          "output_type": "stream",
          "text": [
            "Uninstalling matplotlib-3.1.0:\n",
            "  Would remove:\n",
            "    /usr/local/lib/python3.6/dist-packages/matplotlib-3.1.0-py3.6-nspkg.pth\n",
            "    /usr/local/lib/python3.6/dist-packages/matplotlib-3.1.0.dist-info/*\n",
            "    /usr/local/lib/python3.6/dist-packages/matplotlib/*\n",
            "    /usr/local/lib/python3.6/dist-packages/mpl_toolkits/axes_grid/*\n",
            "    /usr/local/lib/python3.6/dist-packages/mpl_toolkits/axes_grid1/*\n",
            "    /usr/local/lib/python3.6/dist-packages/mpl_toolkits/axisartist/*\n",
            "    /usr/local/lib/python3.6/dist-packages/mpl_toolkits/mplot3d/*\n",
            "    /usr/local/lib/python3.6/dist-packages/mpl_toolkits/tests/*\n",
            "    /usr/local/lib/python3.6/dist-packages/pylab.py\n",
            "Proceed (y/n)? y\n",
            "  Successfully uninstalled matplotlib-3.1.0\n"
          ],
          "name": "stdout"
        }
      ]
    },
    {
      "cell_type": "code",
      "metadata": {
        "id": "1mM9OJQYjU_s",
        "colab_type": "code",
        "colab": {
          "base_uri": "https://localhost:8080/",
          "height": 332
        },
        "outputId": "1baaa9d0-7491-449c-e04f-5d57218744c5"
      },
      "source": [
        "pip install -U matplotlib"
      ],
      "execution_count": 3,
      "outputs": [
        {
          "output_type": "stream",
          "text": [
            "Collecting matplotlib\n",
            "  Using cached https://files.pythonhosted.org/packages/da/83/d989ee20c78117c737ab40e0318ea221f1aed4e3f5a40b4f93541b369b93/matplotlib-3.1.0-cp36-cp36m-manylinux1_x86_64.whl\n",
            "Requirement already satisfied, skipping upgrade: cycler>=0.10 in /usr/local/lib/python3.6/dist-packages (from matplotlib) (0.10.0)\n",
            "Requirement already satisfied, skipping upgrade: kiwisolver>=1.0.1 in /usr/local/lib/python3.6/dist-packages (from matplotlib) (1.1.0)\n",
            "Requirement already satisfied, skipping upgrade: numpy>=1.11 in /usr/local/lib/python3.6/dist-packages (from matplotlib) (1.16.4)\n",
            "Requirement already satisfied, skipping upgrade: pyparsing!=2.0.4,!=2.1.2,!=2.1.6,>=2.0.1 in /usr/local/lib/python3.6/dist-packages (from matplotlib) (2.4.0)\n",
            "Requirement already satisfied, skipping upgrade: python-dateutil>=2.1 in /usr/local/lib/python3.6/dist-packages (from matplotlib) (2.5.3)\n",
            "Requirement already satisfied, skipping upgrade: six in /usr/local/lib/python3.6/dist-packages (from cycler>=0.10->matplotlib) (1.12.0)\n",
            "Requirement already satisfied, skipping upgrade: setuptools in /usr/local/lib/python3.6/dist-packages (from kiwisolver>=1.0.1->matplotlib) (41.0.1)\n",
            "\u001b[31mERROR: albumentations 0.1.12 has requirement imgaug<0.2.7,>=0.2.5, but you'll have imgaug 0.2.9 which is incompatible.\u001b[0m\n",
            "Installing collected packages: matplotlib\n",
            "Successfully installed matplotlib-3.1.0\n"
          ],
          "name": "stdout"
        },
        {
          "output_type": "display_data",
          "data": {
            "application/vnd.colab-display-data+json": {
              "pip_warning": {
                "packages": [
                  "matplotlib",
                  "mpl_toolkits"
                ]
              }
            }
          },
          "metadata": {
            "tags": []
          }
        }
      ]
    },
    {
      "cell_type": "code",
      "metadata": {
        "id": "R5wdfx4hnoyF",
        "colab_type": "code",
        "colab": {
          "base_uri": "https://localhost:8080/",
          "height": 259
        },
        "outputId": "82c48e4b-6b44-44f1-8d72-a966f713174d"
      },
      "source": [
        "pip install geopandas"
      ],
      "execution_count": 4,
      "outputs": [
        {
          "output_type": "stream",
          "text": [
            "Requirement already satisfied: geopandas in /usr/local/lib/python3.6/dist-packages (0.5.0)\n",
            "Requirement already satisfied: pandas in /usr/local/lib/python3.6/dist-packages (from geopandas) (0.24.2)\n",
            "Requirement already satisfied: pyproj in /usr/local/lib/python3.6/dist-packages (from geopandas) (2.2.0)\n",
            "Requirement already satisfied: fiona in /usr/local/lib/python3.6/dist-packages (from geopandas) (1.8.6)\n",
            "Requirement already satisfied: shapely in /usr/local/lib/python3.6/dist-packages (from geopandas) (1.6.4.post2)\n",
            "Requirement already satisfied: numpy>=1.12.0 in /usr/local/lib/python3.6/dist-packages (from pandas->geopandas) (1.16.4)\n",
            "Requirement already satisfied: pytz>=2011k in /usr/local/lib/python3.6/dist-packages (from pandas->geopandas) (2018.9)\n",
            "Requirement already satisfied: python-dateutil>=2.5.0 in /usr/local/lib/python3.6/dist-packages (from pandas->geopandas) (2.5.3)\n",
            "Requirement already satisfied: cligj>=0.5 in /usr/local/lib/python3.6/dist-packages (from fiona->geopandas) (0.5.0)\n",
            "Requirement already satisfied: attrs>=17 in /usr/local/lib/python3.6/dist-packages (from fiona->geopandas) (19.1.0)\n",
            "Requirement already satisfied: click-plugins>=1.0 in /usr/local/lib/python3.6/dist-packages (from fiona->geopandas) (1.1.1)\n",
            "Requirement already satisfied: munch in /usr/local/lib/python3.6/dist-packages (from fiona->geopandas) (2.3.2)\n",
            "Requirement already satisfied: click<8,>=4.0 in /usr/local/lib/python3.6/dist-packages (from fiona->geopandas) (7.0)\n",
            "Requirement already satisfied: six>=1.7 in /usr/local/lib/python3.6/dist-packages (from fiona->geopandas) (1.12.0)\n"
          ],
          "name": "stdout"
        }
      ]
    },
    {
      "cell_type": "code",
      "metadata": {
        "id": "a1LjFoNKn1fY",
        "colab_type": "code",
        "colab": {
          "base_uri": "https://localhost:8080/",
          "height": 193
        },
        "outputId": "2c1e9e71-e8f3-44f7-9fa0-1ab383b6c588"
      },
      "source": [
        "pip install descartes"
      ],
      "execution_count": 5,
      "outputs": [
        {
          "output_type": "stream",
          "text": [
            "Requirement already satisfied: descartes in /usr/local/lib/python3.6/dist-packages (1.1.0)\n",
            "Requirement already satisfied: matplotlib in /usr/local/lib/python3.6/dist-packages (from descartes) (3.1.0)\n",
            "Requirement already satisfied: kiwisolver>=1.0.1 in /usr/local/lib/python3.6/dist-packages (from matplotlib->descartes) (1.1.0)\n",
            "Requirement already satisfied: python-dateutil>=2.1 in /usr/local/lib/python3.6/dist-packages (from matplotlib->descartes) (2.5.3)\n",
            "Requirement already satisfied: pyparsing!=2.0.4,!=2.1.2,!=2.1.6,>=2.0.1 in /usr/local/lib/python3.6/dist-packages (from matplotlib->descartes) (2.4.0)\n",
            "Requirement already satisfied: cycler>=0.10 in /usr/local/lib/python3.6/dist-packages (from matplotlib->descartes) (0.10.0)\n",
            "Requirement already satisfied: numpy>=1.11 in /usr/local/lib/python3.6/dist-packages (from matplotlib->descartes) (1.16.4)\n",
            "Requirement already satisfied: setuptools in /usr/local/lib/python3.6/dist-packages (from kiwisolver>=1.0.1->matplotlib->descartes) (41.0.1)\n",
            "Requirement already satisfied: six>=1.5 in /usr/local/lib/python3.6/dist-packages (from python-dateutil>=2.1->matplotlib->descartes) (1.12.0)\n"
          ],
          "name": "stdout"
        }
      ]
    },
    {
      "cell_type": "code",
      "metadata": {
        "id": "apw7UBdI9HBc",
        "colab_type": "code",
        "colab": {}
      },
      "source": [
        "import pandas as pd\n",
        "from yandex_geocoder import Client\n",
        "import numpy as np\n"
      ],
      "execution_count": 0,
      "outputs": []
    },
    {
      "cell_type": "code",
      "metadata": {
        "id": "zflGgX_omOzv",
        "colab_type": "code",
        "colab": {}
      },
      "source": [
        "import matplotlib.pyplot as plt\n",
        "import descartes\n",
        "import geopandas as gpd\n",
        "from shapely.geometry import Point, Polygon"
      ],
      "execution_count": 0,
      "outputs": []
    },
    {
      "cell_type": "code",
      "metadata": {
        "id": "wUfLm0c2_lNr",
        "colab_type": "code",
        "colab": {}
      },
      "source": [
        "hostel_data = pd.read_excel('https://github.com/JefNtungila/Geoproject/blob/master/Data%20visualisation.xlsx?raw=true')"
      ],
      "execution_count": 0,
      "outputs": []
    },
    {
      "cell_type": "code",
      "metadata": {
        "id": "d6osAgx5Bqyi",
        "colab_type": "code",
        "colab": {
          "base_uri": "https://localhost:8080/",
          "height": 167
        },
        "outputId": "4ce2d8f9-f6e0-4370-a81e-a1d273f245ef"
      },
      "source": [
        "hostel_data.head(1)"
      ],
      "execution_count": 9,
      "outputs": [
        {
          "output_type": "execute_result",
          "data": {
            "text/html": [
              "<div>\n",
              "<style scoped>\n",
              "    .dataframe tbody tr th:only-of-type {\n",
              "        vertical-align: middle;\n",
              "    }\n",
              "\n",
              "    .dataframe tbody tr th {\n",
              "        vertical-align: top;\n",
              "    }\n",
              "\n",
              "    .dataframe thead th {\n",
              "        text-align: right;\n",
              "    }\n",
              "</style>\n",
              "<table border=\"1\" class=\"dataframe\">\n",
              "  <thead>\n",
              "    <tr style=\"text-align: right;\">\n",
              "      <th></th>\n",
              "      <th>Unnamed: 0</th>\n",
              "      <th>Unnamed: 1</th>\n",
              "      <th>City</th>\n",
              "      <th>Hostel Name</th>\n",
              "      <th>Email</th>\n",
              "      <th>Facebook</th>\n",
              "      <th>Instagram</th>\n",
              "      <th>Number</th>\n",
              "      <th>Address</th>\n",
              "    </tr>\n",
              "  </thead>\n",
              "  <tbody>\n",
              "    <tr>\n",
              "      <th>0</th>\n",
              "      <td>NaN</td>\n",
              "      <td>1.0</td>\n",
              "      <td>Ayutthaya</td>\n",
              "      <td>Early Bird Hostel Ayutthaya</td>\n",
              "      <td>earlybirdhostel@gmail.com</td>\n",
              "      <td>https://www.facebook.com/earlybirdhostelayutth...</td>\n",
              "      <td>NaN</td>\n",
              "      <td>=+66 88 676 2525</td>\n",
              "      <td>ตำบล หัวรอ อำเภอ พระนครศรีอยุธยา พระนครศรีอยุธ...</td>\n",
              "    </tr>\n",
              "  </tbody>\n",
              "</table>\n",
              "</div>"
            ],
            "text/plain": [
              "  Unnamed: 0  ...                                            Address\n",
              "0        NaN  ...  ตำบล หัวรอ อำเภอ พระนครศรีอยุธยา พระนครศรีอยุธ...\n",
              "\n",
              "[1 rows x 9 columns]"
            ]
          },
          "metadata": {
            "tags": []
          },
          "execution_count": 9
        }
      ]
    },
    {
      "cell_type": "code",
      "metadata": {
        "id": "KY_UWPstdbGe",
        "colab_type": "code",
        "colab": {
          "base_uri": "https://localhost:8080/",
          "height": 52
        },
        "outputId": "a10c4dd8-2642-4003-eafb-b248157dff57"
      },
      "source": [
        "hostel_data.columns.values"
      ],
      "execution_count": 10,
      "outputs": [
        {
          "output_type": "execute_result",
          "data": {
            "text/plain": [
              "array(['Unnamed: 0', 'Unnamed: 1', 'City', 'Hostel Name', 'Email',\n",
              "       'Facebook', 'Instagram', 'Number', 'Address'], dtype=object)"
            ]
          },
          "metadata": {
            "tags": []
          },
          "execution_count": 10
        }
      ]
    },
    {
      "cell_type": "code",
      "metadata": {
        "id": "0qHNiM4dB1RE",
        "colab_type": "code",
        "colab": {
          "base_uri": "https://localhost:8080/",
          "height": 112
        },
        "outputId": "4c1236e0-00aa-481d-bc28-757c09b9cb2a"
      },
      "source": [
        "hostel_data = hostel_data.drop(['Unnamed: 0','Unnamed: 1'], axis = 1)\n",
        "hostel_data.head(1)"
      ],
      "execution_count": 11,
      "outputs": [
        {
          "output_type": "execute_result",
          "data": {
            "text/html": [
              "<div>\n",
              "<style scoped>\n",
              "    .dataframe tbody tr th:only-of-type {\n",
              "        vertical-align: middle;\n",
              "    }\n",
              "\n",
              "    .dataframe tbody tr th {\n",
              "        vertical-align: top;\n",
              "    }\n",
              "\n",
              "    .dataframe thead th {\n",
              "        text-align: right;\n",
              "    }\n",
              "</style>\n",
              "<table border=\"1\" class=\"dataframe\">\n",
              "  <thead>\n",
              "    <tr style=\"text-align: right;\">\n",
              "      <th></th>\n",
              "      <th>City</th>\n",
              "      <th>Hostel Name</th>\n",
              "      <th>Email</th>\n",
              "      <th>Facebook</th>\n",
              "      <th>Instagram</th>\n",
              "      <th>Number</th>\n",
              "      <th>Address</th>\n",
              "    </tr>\n",
              "  </thead>\n",
              "  <tbody>\n",
              "    <tr>\n",
              "      <th>0</th>\n",
              "      <td>Ayutthaya</td>\n",
              "      <td>Early Bird Hostel Ayutthaya</td>\n",
              "      <td>earlybirdhostel@gmail.com</td>\n",
              "      <td>https://www.facebook.com/earlybirdhostelayutth...</td>\n",
              "      <td>NaN</td>\n",
              "      <td>=+66 88 676 2525</td>\n",
              "      <td>ตำบล หัวรอ อำเภอ พระนครศรีอยุธยา พระนครศรีอยุธ...</td>\n",
              "    </tr>\n",
              "  </tbody>\n",
              "</table>\n",
              "</div>"
            ],
            "text/plain": [
              "        City  ...                                            Address\n",
              "0  Ayutthaya  ...  ตำบล หัวรอ อำเภอ พระนครศรีอยุธยา พระนครศรีอยุธ...\n",
              "\n",
              "[1 rows x 7 columns]"
            ]
          },
          "metadata": {
            "tags": []
          },
          "execution_count": 11
        }
      ]
    },
    {
      "cell_type": "code",
      "metadata": {
        "id": "HXZ8K0t-p3l3",
        "colab_type": "code",
        "colab": {}
      },
      "source": [
        "x = hostel_data['Address'].tolist()\n",
        "x;"
      ],
      "execution_count": 0,
      "outputs": []
    },
    {
      "cell_type": "code",
      "metadata": {
        "id": "H7eoe-tQeq3i",
        "colab_type": "code",
        "colab": {
          "base_uri": "https://localhost:8080/",
          "height": 52
        },
        "outputId": "88b25525-c742-4a3f-f1c0-dcd15088b690"
      },
      "source": [
        "%%time \n",
        "\n",
        "coord_list = []\n",
        "\n",
        "for item in x:\n",
        "  try:\n",
        "    a = Client.coordinates(item)\n",
        "    coord_list.append(a)\n",
        "  except:\n",
        "    coord_list.append('Coord NA')\n",
        "\n",
        "coord_list"
      ],
      "execution_count": 13,
      "outputs": [
        {
          "output_type": "stream",
          "text": [
            "CPU times: user 34.2 s, sys: 2.56 s, total: 36.8 s\n",
            "Wall time: 27min 58s\n"
          ],
          "name": "stdout"
        }
      ]
    },
    {
      "cell_type": "code",
      "metadata": {
        "id": "oaiomg0JGK48",
        "colab_type": "code",
        "colab": {}
      },
      "source": [
        "coord_list;"
      ],
      "execution_count": 0,
      "outputs": []
    },
    {
      "cell_type": "code",
      "metadata": {
        "id": "VWblxDnU0iI6",
        "colab_type": "code",
        "colab": {}
      },
      "source": [
        "dic =\t{\n",
        "  'Coord NA': (np.NaN,np.NaN)}\n",
        "\n",
        "updated_coord_list= [ dic.get(item,item) for item in coord_list] \n",
        "updated_coord_list;"
      ],
      "execution_count": 0,
      "outputs": []
    },
    {
      "cell_type": "code",
      "metadata": {
        "id": "5VBpMKLt4OT9",
        "colab_type": "code",
        "colab": {}
      },
      "source": [
        "hostel_data[['Latitude','Longitude']] = pd.DataFrame(updated_coord_list)"
      ],
      "execution_count": 0,
      "outputs": []
    },
    {
      "cell_type": "code",
      "metadata": {
        "id": "uxXqH_kYCcSS",
        "colab_type": "code",
        "colab": {}
      },
      "source": [
        "hostel_data[['Latitude','Longitude']] = hostel_data[['Latitude','Longitude']].astype(float)\n",
        "hostel_data[['Latitude','Longitude']] = hostel_data[['Latitude','Longitude']].fillna(method='ffill')"
      ],
      "execution_count": 0,
      "outputs": []
    },
    {
      "cell_type": "markdown",
      "metadata": {
        "id": "Ho1yC2TKcTwG",
        "colab_type": "text"
      },
      "source": [
        "##Thailand"
      ]
    },
    {
      "cell_type": "code",
      "metadata": {
        "id": "sFAXJWG7ZGAS",
        "colab_type": "code",
        "colab": {}
      },
      "source": [
        "hostel_data_thailand = hostel_data.head(1225)\n"
      ],
      "execution_count": 0,
      "outputs": []
    },
    {
      "cell_type": "code",
      "metadata": {
        "id": "fjF4y8L_TaGB",
        "colab_type": "code",
        "colab": {
          "base_uri": "https://localhost:8080/",
          "height": 78
        },
        "outputId": "6cbf04d7-278a-47b5-a893-d3604137ddca"
      },
      "source": [
        "hostel_data_thailand.tail(1)"
      ],
      "execution_count": 84,
      "outputs": [
        {
          "output_type": "execute_result",
          "data": {
            "text/html": [
              "<div>\n",
              "<style scoped>\n",
              "    .dataframe tbody tr th:only-of-type {\n",
              "        vertical-align: middle;\n",
              "    }\n",
              "\n",
              "    .dataframe tbody tr th {\n",
              "        vertical-align: top;\n",
              "    }\n",
              "\n",
              "    .dataframe thead th {\n",
              "        text-align: right;\n",
              "    }\n",
              "</style>\n",
              "<table border=\"1\" class=\"dataframe\">\n",
              "  <thead>\n",
              "    <tr style=\"text-align: right;\">\n",
              "      <th></th>\n",
              "      <th>City</th>\n",
              "      <th>Hostel Name</th>\n",
              "      <th>Email</th>\n",
              "      <th>Facebook</th>\n",
              "      <th>Instagram</th>\n",
              "      <th>Number</th>\n",
              "      <th>Address</th>\n",
              "      <th>Latitude</th>\n",
              "      <th>Longitude</th>\n",
              "    </tr>\n",
              "  </thead>\n",
              "  <tbody>\n",
              "    <tr>\n",
              "      <th>1224</th>\n",
              "      <td>Ambarawa</td>\n",
              "      <td>Crown Guest House</td>\n",
              "      <td>NaN</td>\n",
              "      <td>NaN</td>\n",
              "      <td>NaN</td>\n",
              "      <td>NaN</td>\n",
              "      <td>Jl. Kartini Bawen No.7, Mustika, Bawen, Semara...</td>\n",
              "      <td>101.307704</td>\n",
              "      <td>16.378309</td>\n",
              "    </tr>\n",
              "  </tbody>\n",
              "</table>\n",
              "</div>"
            ],
            "text/plain": [
              "          City        Hostel Name  ...    Latitude  Longitude\n",
              "1224  Ambarawa  Crown Guest House  ...  101.307704  16.378309\n",
              "\n",
              "[1 rows x 9 columns]"
            ]
          },
          "metadata": {
            "tags": []
          },
          "execution_count": 84
        }
      ]
    },
    {
      "cell_type": "code",
      "metadata": {
        "id": "VJrjPreVY-fY",
        "colab_type": "code",
        "colab": {}
      },
      "source": [
        "Thailand = gpd.GeoDataFrame.from_file('http://biogeo.ucdavis.edu/data/diva/adm/THA_adm.zip')"
      ],
      "execution_count": 0,
      "outputs": []
    },
    {
      "cell_type": "code",
      "metadata": {
        "id": "njLzVMxBqbQO",
        "colab_type": "code",
        "colab": {
          "base_uri": "https://localhost:8080/",
          "height": 880
        },
        "outputId": "6b0396f8-bf96-4123-b8a4-cfdc7b6ef5b5"
      },
      "source": [
        "fig, ax = plt.subplots (figsize = (25,15))\n",
        "Thailand.plot(ax=ax)"
      ],
      "execution_count": 86,
      "outputs": [
        {
          "output_type": "execute_result",
          "data": {
            "text/plain": [
              "<matplotlib.axes._subplots.AxesSubplot at 0x7f68fbbb2f28>"
            ]
          },
          "metadata": {
            "tags": []
          },
          "execution_count": 86
        },
        {
          "output_type": "display_data",
          "data": {
            "image/png": "[encoded data removed]",
            "text/plain": [
              "<Figure size 1800x1080 with 1 Axes>"
            ]
          },
          "metadata": {
            "tags": []
          }
        }
      ]
    },
    {
      "cell_type": "code",
      "metadata": {
        "id": "ab7bAfSJwfyF",
        "colab_type": "code",
        "colab": {}
      },
      "source": [
        "hostel_points = hostel_data_thailand[['Latitude', 'Longitude']].apply(lambda row:\n",
        "              Point(row[\"Latitude\"], row[\"Longitude\"]), axis=1)\n",
        "\n",
        "geo_hostels = gpd.GeoDataFrame({\"geometry\": hostel_points,\n",
        "\t\t\t\"Hostel_Names\": hostel_data_thailand[\"Hostel Name\"]})"
      ],
      "execution_count": 0,
      "outputs": []
    },
    {
      "cell_type": "code",
      "metadata": {
        "id": "ibiSE_xhaGJF",
        "colab_type": "code",
        "colab": {}
      },
      "source": [
        "Thailand.crs = {'init': 'epsg:4326'}\n",
        "geo_hostels.crs = {'init': 'epsg:4326'}"
      ],
      "execution_count": 0,
      "outputs": []
    },
    {
      "cell_type": "code",
      "metadata": {
        "id": "7Gjgohyl1dK6",
        "colab_type": "code",
        "colab": {
          "base_uri": "https://localhost:8080/",
          "height": 645
        },
        "outputId": "e783fbc9-c9c9-41b3-80e9-80c2eefc5aeb"
      },
      "source": [
        "fig, ax = plt.subplots (figsize = (25,15))\n",
        "base = Thailand.plot(ax=ax)\n",
        "geo_hostels.plot(ax=ax, marker=\"o\",\n",
        "            markersize=10,\n",
        "              alpha=1, color = 'yellow')\n",
        "_ = ax.axis('off')\n",
        "ax.set_title(\"Hostels in Thailand\")"
      ],
      "execution_count": 89,
      "outputs": [
        {
          "output_type": "execute_result",
          "data": {
            "text/plain": [
              "Text(0.5, 1, 'Hostels in Thailand')"
            ]
          },
          "metadata": {
            "tags": []
          },
          "execution_count": 89
        },
        {
          "output_type": "display_data",
          "data": {
            "image/png": "[encoded data removed]",
            "text/plain": [
              "<Figure size 1800x1080 with 1 Axes>"
            ]
          },
          "metadata": {
            "tags": []
          }
        }
      ]
    }
  ]
}