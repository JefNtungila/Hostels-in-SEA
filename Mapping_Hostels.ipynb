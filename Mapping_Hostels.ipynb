{
  "nbformat": 4,
  "nbformat_minor": 0,
  "metadata": {
    "colab": {
      "name": "Mapping Hostels.ipynb",
      "version": "0.3.2",
      "provenance": [],
      "include_colab_link": true
    },
    "kernelspec": {
      "name": "python3",
      "display_name": "Python 3"
    }
  },
  "cells": [
    {
      "cell_type": "markdown",
      "metadata": {
        "id": "view-in-github",
        "colab_type": "text"
      },
      "source": [
        "<a href=\"https://colab.research.google.com/github/JefNtungila/Geoproject/blob/master/Mapping_Hostels.ipynb\" target=\"_parent\"><img src=\"https://colab.research.google.com/assets/colab-badge.svg\" alt=\"Open In Colab\"/></a>"
      ]
    },
    {
      "cell_type": "code",
      "metadata": {
        "id": "igxprSEceic_",
        "colab_type": "code",
        "colab": {
          "base_uri": "https://localhost:8080/",
          "height": 141
        },
        "outputId": "15c022c5-cffa-4bc9-fc8c-459ab9d94915"
      },
      "source": [
        "pip install yandex-geocoder"
      ],
      "execution_count": 196,
      "outputs": [
        {
          "output_type": "stream",
          "text": [
            "Requirement already satisfied: yandex-geocoder in /usr/local/lib/python3.6/dist-packages (1.0.0)\n",
            "Requirement already satisfied: requests~=2.20 in /usr/local/lib/python3.6/dist-packages (from yandex-geocoder) (2.21.0)\n",
            "Requirement already satisfied: idna<2.9,>=2.5 in /usr/local/lib/python3.6/dist-packages (from requests~=2.20->yandex-geocoder) (2.8)\n",
            "Requirement already satisfied: certifi>=2017.4.17 in /usr/local/lib/python3.6/dist-packages (from requests~=2.20->yandex-geocoder) (2019.3.9)\n",
            "Requirement already satisfied: urllib3<1.25,>=1.21.1 in /usr/local/lib/python3.6/dist-packages (from requests~=2.20->yandex-geocoder) (1.24.3)\n",
            "Requirement already satisfied: chardet<3.1.0,>=3.0.2 in /usr/local/lib/python3.6/dist-packages (from requests~=2.20->yandex-geocoder) (3.0.4)\n"
          ],
          "name": "stdout"
        }
      ]
    },
    {
      "cell_type": "code",
      "metadata": {
        "id": "apw7UBdI9HBc",
        "colab_type": "code",
        "colab": {}
      },
      "source": [
        "import pandas as pd\n",
        "from yandex_geocoder import Client\n",
        "import numpy as np"
      ],
      "execution_count": 0,
      "outputs": []
    },
    {
      "cell_type": "code",
      "metadata": {
        "id": "wUfLm0c2_lNr",
        "colab_type": "code",
        "colab": {}
      },
      "source": [
        "hostel_data = pd.read_excel('https://github.com/JefNtungila/Geoproject/blob/master/Data%20visualisation.xlsx?raw=true')"
      ],
      "execution_count": 0,
      "outputs": []
    },
    {
      "cell_type": "code",
      "metadata": {
        "id": "d6osAgx5Bqyi",
        "colab_type": "code",
        "colab": {
          "base_uri": "https://localhost:8080/",
          "height": 167
        },
        "outputId": "9406f053-8b95-4eee-f2a7-5c11053ba4ac"
      },
      "source": [
        "hostel_data.head(1)"
      ],
      "execution_count": 199,
      "outputs": [
        {
          "output_type": "execute_result",
          "data": {
            "text/html": [
              "<div>\n",
              "<style scoped>\n",
              "    .dataframe tbody tr th:only-of-type {\n",
              "        vertical-align: middle;\n",
              "    }\n",
              "\n",
              "    .dataframe tbody tr th {\n",
              "        vertical-align: top;\n",
              "    }\n",
              "\n",
              "    .dataframe thead th {\n",
              "        text-align: right;\n",
              "    }\n",
              "</style>\n",
              "<table border=\"1\" class=\"dataframe\">\n",
              "  <thead>\n",
              "    <tr style=\"text-align: right;\">\n",
              "      <th></th>\n",
              "      <th>Unnamed: 0</th>\n",
              "      <th>Unnamed: 1</th>\n",
              "      <th>City</th>\n",
              "      <th>Hostel Name</th>\n",
              "      <th>Email</th>\n",
              "      <th>Facebook</th>\n",
              "      <th>Instagram</th>\n",
              "      <th>Number</th>\n",
              "      <th>Address</th>\n",
              "    </tr>\n",
              "  </thead>\n",
              "  <tbody>\n",
              "    <tr>\n",
              "      <th>0</th>\n",
              "      <td>NaN</td>\n",
              "      <td>1.0</td>\n",
              "      <td>Ayutthaya</td>\n",
              "      <td>Early Bird Hostel Ayutthaya</td>\n",
              "      <td>earlybirdhostel@gmail.com</td>\n",
              "      <td>https://www.facebook.com/earlybirdhostelayutth...</td>\n",
              "      <td>NaN</td>\n",
              "      <td>=+66 88 676 2525</td>\n",
              "      <td>ตำบล หัวรอ อำเภอ พระนครศรีอยุธยา พระนครศรีอยุธ...</td>\n",
              "    </tr>\n",
              "  </tbody>\n",
              "</table>\n",
              "</div>"
            ],
            "text/plain": [
              "  Unnamed: 0  ...                                            Address\n",
              "0        NaN  ...  ตำบล หัวรอ อำเภอ พระนครศรีอยุธยา พระนครศรีอยุธ...\n",
              "\n",
              "[1 rows x 9 columns]"
            ]
          },
          "metadata": {
            "tags": []
          },
          "execution_count": 199
        }
      ]
    },
    {
      "cell_type": "code",
      "metadata": {
        "id": "KY_UWPstdbGe",
        "colab_type": "code",
        "colab": {
          "base_uri": "https://localhost:8080/",
          "height": 52
        },
        "outputId": "4e3f4275-5fa1-45e9-a371-d4fb041706e6"
      },
      "source": [
        "hostel_data.columns.values"
      ],
      "execution_count": 200,
      "outputs": [
        {
          "output_type": "execute_result",
          "data": {
            "text/plain": [
              "array(['Unnamed: 0', 'Unnamed: 1', 'City', 'Hostel Name', 'Email',\n",
              "       'Facebook', 'Instagram', 'Number', 'Address'], dtype=object)"
            ]
          },
          "metadata": {
            "tags": []
          },
          "execution_count": 200
        }
      ]
    },
    {
      "cell_type": "code",
      "metadata": {
        "id": "0qHNiM4dB1RE",
        "colab_type": "code",
        "colab": {
          "base_uri": "https://localhost:8080/",
          "height": 112
        },
        "outputId": "b1a64a8c-b8f4-4943-8dc7-29de30feba6e"
      },
      "source": [
        "hostel_data = hostel_data.drop(['Unnamed: 0','Unnamed: 1'], axis = 1)\n",
        "hostel_data.head(1)"
      ],
      "execution_count": 201,
      "outputs": [
        {
          "output_type": "execute_result",
          "data": {
            "text/html": [
              "<div>\n",
              "<style scoped>\n",
              "    .dataframe tbody tr th:only-of-type {\n",
              "        vertical-align: middle;\n",
              "    }\n",
              "\n",
              "    .dataframe tbody tr th {\n",
              "        vertical-align: top;\n",
              "    }\n",
              "\n",
              "    .dataframe thead th {\n",
              "        text-align: right;\n",
              "    }\n",
              "</style>\n",
              "<table border=\"1\" class=\"dataframe\">\n",
              "  <thead>\n",
              "    <tr style=\"text-align: right;\">\n",
              "      <th></th>\n",
              "      <th>City</th>\n",
              "      <th>Hostel Name</th>\n",
              "      <th>Email</th>\n",
              "      <th>Facebook</th>\n",
              "      <th>Instagram</th>\n",
              "      <th>Number</th>\n",
              "      <th>Address</th>\n",
              "    </tr>\n",
              "  </thead>\n",
              "  <tbody>\n",
              "    <tr>\n",
              "      <th>0</th>\n",
              "      <td>Ayutthaya</td>\n",
              "      <td>Early Bird Hostel Ayutthaya</td>\n",
              "      <td>earlybirdhostel@gmail.com</td>\n",
              "      <td>https://www.facebook.com/earlybirdhostelayutth...</td>\n",
              "      <td>NaN</td>\n",
              "      <td>=+66 88 676 2525</td>\n",
              "      <td>ตำบล หัวรอ อำเภอ พระนครศรีอยุธยา พระนครศรีอยุธ...</td>\n",
              "    </tr>\n",
              "  </tbody>\n",
              "</table>\n",
              "</div>"
            ],
            "text/plain": [
              "        City  ...                                            Address\n",
              "0  Ayutthaya  ...  ตำบล หัวรอ อำเภอ พระนครศรีอยุธยา พระนครศรีอยุธ...\n",
              "\n",
              "[1 rows x 7 columns]"
            ]
          },
          "metadata": {
            "tags": []
          },
          "execution_count": 201
        }
      ]
    },
    {
      "cell_type": "code",
      "metadata": {
        "id": "HXZ8K0t-p3l3",
        "colab_type": "code",
        "colab": {}
      },
      "source": [
        "x = hostel_data['Address'].tolist()\n",
        "x;"
      ],
      "execution_count": 0,
      "outputs": []
    },
    {
      "cell_type": "code",
      "metadata": {
        "id": "H7eoe-tQeq3i",
        "colab_type": "code",
        "colab": {
          "base_uri": "https://localhost:8080/",
          "height": 52
        },
        "outputId": "92d595df-8b0b-4f69-8b08-26a04814dd14"
      },
      "source": [
        "%%time \n",
        "\n",
        "coord_list = []\n",
        "\n",
        "for item in x:\n",
        "  try:\n",
        "    a = Client.coordinates(item)\n",
        "    coord_list.append(a)\n",
        "  except:\n",
        "    coord_list.append('Coord NA')\n",
        "\n",
        "coord_list"
      ],
      "execution_count": 208,
      "outputs": [
        {
          "output_type": "stream",
          "text": [
            "CPU times: user 36.3 s, sys: 2.89 s, total: 39.2 s\n",
            "Wall time: 40min 49s\n"
          ],
          "name": "stdout"
        }
      ]
    },
    {
      "cell_type": "code",
      "metadata": {
        "id": "oaiomg0JGK48",
        "colab_type": "code",
        "colab": {}
      },
      "source": [
        "coord_list;"
      ],
      "execution_count": 0,
      "outputs": []
    },
    {
      "cell_type": "code",
      "metadata": {
        "id": "VWblxDnU0iI6",
        "colab_type": "code",
        "colab": {}
      },
      "source": [
        "dic =\t{\n",
        "  'Coord NA': (np.NaN,np.NaN)}\n",
        "\n",
        "updated_coord_list= [ dic.get(item,item) for item in coord_list] \n",
        "updated_coord_list;"
      ],
      "execution_count": 0,
      "outputs": []
    },
    {
      "cell_type": "code",
      "metadata": {
        "id": "5VBpMKLt4OT9",
        "colab_type": "code",
        "colab": {}
      },
      "source": [
        "hostel_data[['Latitude','Longitude']] = pd.DataFrame(updated_coord_list)"
      ],
      "execution_count": 0,
      "outputs": []
    },
    {
      "cell_type": "code",
      "metadata": {
        "id": "fjF4y8L_TaGB",
        "colab_type": "code",
        "colab": {}
      },
      "source": [
        "hostel_data.tail(50)"
      ],
      "execution_count": 0,
      "outputs": []
    },
    {
      "cell_type": "code",
      "metadata": {
        "id": "VJrjPreVY-fY",
        "colab_type": "code",
        "colab": {}
      },
      "source": [
        ""
      ],
      "execution_count": 0,
      "outputs": []
    }
  ]
}